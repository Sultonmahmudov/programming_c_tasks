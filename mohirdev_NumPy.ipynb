{
  "cells": [
    {
      "cell_type": "markdown",
      "metadata": {
        "id": "view-in-github",
        "colab_type": "text"
      },
      "source": [
        "<a href=\"https://colab.research.google.com/github/Sultonmahmudov/programming_c_tasks/blob/main/mohirdev_NumPy.ipynb\" target=\"_parent\"><img src=\"https://colab.research.google.com/assets/colab-badge.svg\" alt=\"Open In Colab\"/></a>"
      ]
    },
    {
      "cell_type": "markdown",
      "id": "bf79c78b",
      "metadata": {
        "id": "bf79c78b"
      },
      "source": [
        "# NumPy kutubxonasiga doir bilimlaringizni mustaxkamlash uchun mashqlar\n",
        "\n",
        "Hurmatli o'quvchi, bilimingizni yanada mustaxkamlashingiz va chuqurroq ko'nikmalarga ega bo'lishingiz uchun sizga topshiriqlar tayyorladik. Sizga yengillik yaratish maqsadida topshiriqni aynan qanday funksiyalar yordamida amalga oshirishingiz mumkin ekanini\n",
        " `💡Ishora` ko'rinishida yozdik!"
      ]
    },
    {
      "cell_type": "markdown",
      "id": "017db353",
      "metadata": {
        "id": "017db353"
      },
      "source": [
        "#### 1. NumPy kutubxonasini `np` nomi ostida yuklang va numpy kutubxonasini chop eting.\n",
        "\n",
        "versiya va konfiguratsiyani tekshiring.\n"
      ]
    },
    {
      "cell_type": "markdown",
      "source": [
        "`💡Ishora` import … as` and `np.__version__, np.show_config"
      ],
      "metadata": {
        "id": "e28779fe"
      },
      "id": "e28779fe"
    },
    {
      "cell_type": "code",
      "source": [
        "import numpy as np\n",
        "np.version\n",
        "np.show_config"
      ],
      "metadata": {
        "id": "_pCbn1ieI3u9",
        "colab": {
          "base_uri": "https://localhost:8080/",
          "height": 186
        },
        "outputId": "7ebc23a7-6e97-43e7-f95d-48759eaf619c"
      },
      "id": "_pCbn1ieI3u9",
      "execution_count": 1,
      "outputs": [
        {
          "output_type": "execute_result",
          "data": {
            "text/plain": [
              "<function numpy.__config__.show(mode='stdout')>"
            ],
            "text/html": [
              "<div style=\"max-width:800px; border: 1px solid var(--colab-border-color);\"><style>\n",
              "      pre.function-repr-contents {\n",
              "        overflow-x: auto;\n",
              "        padding: 8px 12px;\n",
              "        max-height: 500px;\n",
              "      }\n",
              "\n",
              "      pre.function-repr-contents.function-repr-contents-collapsed {\n",
              "        cursor: pointer;\n",
              "        max-height: 100px;\n",
              "      }\n",
              "    </style>\n",
              "    <pre style=\"white-space: initial; background:\n",
              "         var(--colab-secondary-surface-color); padding: 8px 12px;\n",
              "         border-bottom: 1px solid var(--colab-border-color);\"><b>numpy.__config__.show</b><br/>def show(mode=DisplayModes.stdout.value)</pre><pre class=\"function-repr-contents function-repr-contents-collapsed\" style=\"\"><a class=\"filepath\" style=\"display:none\" href=\"#\">/usr/local/lib/python3.10/dist-packages/numpy/__config__.py</a>Show libraries and system information on which NumPy was built\n",
              "and is being used\n",
              "\n",
              "Parameters\n",
              "----------\n",
              "mode : {`&#x27;stdout&#x27;`, `&#x27;dicts&#x27;`}, optional.\n",
              "    Indicates how to display the config information.\n",
              "    `&#x27;stdout&#x27;` prints to console, `&#x27;dicts&#x27;` returns a dictionary\n",
              "    of the configuration.\n",
              "\n",
              "Returns\n",
              "-------\n",
              "out : {`dict`, `None`}\n",
              "    If mode is `&#x27;dicts&#x27;`, a dict is returned, else None\n",
              "\n",
              "See Also\n",
              "--------\n",
              "get_include : Returns the directory containing NumPy C\n",
              "              header files.\n",
              "\n",
              "Notes\n",
              "-----\n",
              "1. The `&#x27;stdout&#x27;` mode will give more readable\n",
              "   output if ``pyyaml`` is installed</pre>\n",
              "      <script>\n",
              "      if (google.colab.kernel.accessAllowed && google.colab.files && google.colab.files.view) {\n",
              "        for (const element of document.querySelectorAll('.filepath')) {\n",
              "          element.style.display = 'block'\n",
              "          element.onclick = (event) => {\n",
              "            event.preventDefault();\n",
              "            event.stopPropagation();\n",
              "            google.colab.files.view(element.textContent, 118);\n",
              "          };\n",
              "        }\n",
              "      }\n",
              "      for (const element of document.querySelectorAll('.function-repr-contents')) {\n",
              "        element.onclick = (event) => {\n",
              "          event.preventDefault();\n",
              "          event.stopPropagation();\n",
              "          element.classList.toggle('function-repr-contents-collapsed');\n",
              "        };\n",
              "      }\n",
              "      </script>\n",
              "      </div>"
            ]
          },
          "metadata": {},
          "execution_count": 1
        }
      ]
    },
    {
      "cell_type": "markdown",
      "id": "46950f4f",
      "metadata": {
        "id": "46950f4f"
      },
      "source": [
        "#### 2. Raqamli qiymatlar ro'yxatini bir o'lchovli NumPy massiviga aylantiring!"
      ]
    },
    {
      "cell_type": "markdown",
      "source": [
        "`💡Ishora` numpy.array"
      ],
      "metadata": {
        "id": "9b0e875f"
      },
      "id": "9b0e875f"
    },
    {
      "cell_type": "code",
      "source": [
        "data = list(range(1,10,2)) # list\n",
        "data_arr = np.array(data)\n",
        "print(data_arr)"
      ],
      "metadata": {
        "id": "dgnzjeT3JCi4",
        "colab": {
          "base_uri": "https://localhost:8080/"
        },
        "outputId": "113f91b7-861c-4c70-fa42-b2307e2aa918"
      },
      "id": "dgnzjeT3JCi4",
      "execution_count": 3,
      "outputs": [
        {
          "output_type": "stream",
          "name": "stdout",
          "text": [
            "[1 3 5 7 9]\n"
          ]
        }
      ]
    },
    {
      "cell_type": "markdown",
      "id": "e3c20b3d",
      "metadata": {
        "id": "e3c20b3d"
      },
      "source": [
        "#### 3. Qiymatlari noldan iborat bo'lgan to'qqiz o'lchovli massiv yarating.\n",
        "\n"
      ]
    },
    {
      "cell_type": "markdown",
      "source": [
        "`💡Ishora` np.zeros"
      ],
      "metadata": {
        "id": "96d0b63e"
      },
      "id": "96d0b63e"
    },
    {
      "cell_type": "markdown",
      "id": "b15a879f",
      "metadata": {
        "id": "b15a879f"
      },
      "source": [
        "#### 4. Massiv yarating va uning xotira hajmini toping.\n",
        "\n"
      ]
    },
    {
      "cell_type": "markdown",
      "source": [
        "`💡Ishora` size, itemsize"
      ],
      "metadata": {
        "id": "32f9025c"
      },
      "id": "32f9025c"
    },
    {
      "cell_type": "code",
      "source": [
        "zeros_arr = np.zeros(9)\n",
        "zeros_arr.size"
      ],
      "metadata": {
        "id": "MZxcJM_oJOTs",
        "colab": {
          "base_uri": "https://localhost:8080/"
        },
        "outputId": "b351088f-baa4-446e-fa59-ed902d82b5d9"
      },
      "id": "MZxcJM_oJOTs",
      "execution_count": 10,
      "outputs": [
        {
          "output_type": "execute_result",
          "data": {
            "text/plain": [
              "9"
            ]
          },
          "metadata": {},
          "execution_count": 10
        }
      ]
    },
    {
      "cell_type": "markdown",
      "id": "0a708990",
      "metadata": {
        "id": "0a708990"
      },
      "source": [
        "#### 5. NumPy kutubxonasidagi add funksiyasi hujjatlarini buyruq satridan qanday olishi mumkin?\n"
      ]
    },
    {
      "cell_type": "markdown",
      "source": [
        "`💡Ishora` np.info"
      ],
      "metadata": {
        "id": "d254eea5"
      },
      "id": "d254eea5"
    },
    {
      "cell_type": "code",
      "source": [
        "np.info(np.add)"
      ],
      "metadata": {
        "id": "m7nA_vYsJVUi",
        "colab": {
          "base_uri": "https://localhost:8080/"
        },
        "outputId": "fce815a9-6f93-4ae0-abba-b8bb1cd9cec2"
      },
      "id": "m7nA_vYsJVUi",
      "execution_count": 11,
      "outputs": [
        {
          "output_type": "stream",
          "name": "stdout",
          "text": [
            "add(x1, x2, /, out=None, *, where=True, casting='same_kind', order='K', dtype=None, subok=True[, signature, extobj])\n",
            "\n",
            "Add arguments element-wise.\n",
            "\n",
            "Parameters\n",
            "----------\n",
            "x1, x2 : array_like\n",
            "    The arrays to be added.\n",
            "    If ``x1.shape != x2.shape``, they must be broadcastable to a common\n",
            "    shape (which becomes the shape of the output).\n",
            "out : ndarray, None, or tuple of ndarray and None, optional\n",
            "    A location into which the result is stored. If provided, it must have\n",
            "    a shape that the inputs broadcast to. If not provided or None,\n",
            "    a freshly-allocated array is returned. A tuple (possible only as a\n",
            "    keyword argument) must have length equal to the number of outputs.\n",
            "where : array_like, optional\n",
            "    This condition is broadcast over the input. At locations where the\n",
            "    condition is True, the `out` array will be set to the ufunc result.\n",
            "    Elsewhere, the `out` array will retain its original value.\n",
            "    Note that if an uninitialized `out` array is created via the default\n",
            "    ``out=None``, locations within it where the condition is False will\n",
            "    remain uninitialized.\n",
            "**kwargs\n",
            "    For other keyword-only arguments, see the\n",
            "    :ref:`ufunc docs <ufuncs.kwargs>`.\n",
            "\n",
            "Returns\n",
            "-------\n",
            "add : ndarray or scalar\n",
            "    The sum of `x1` and `x2`, element-wise.\n",
            "    This is a scalar if both `x1` and `x2` are scalars.\n",
            "\n",
            "Notes\n",
            "-----\n",
            "Equivalent to `x1` + `x2` in terms of array broadcasting.\n",
            "\n",
            "Examples\n",
            "--------\n",
            ">>> np.add(1.0, 4.0)\n",
            "5.0\n",
            ">>> x1 = np.arange(9.0).reshape((3, 3))\n",
            ">>> x2 = np.arange(3.0)\n",
            ">>> np.add(x1, x2)\n",
            "array([[  0.,   2.,   4.],\n",
            "       [  3.,   5.,   7.],\n",
            "       [  6.,   8.,  10.]])\n",
            "\n",
            "The ``+`` operator can be used as a shorthand for ``np.add`` on ndarrays.\n",
            "\n",
            ">>> x1 = np.arange(9.0).reshape((3, 3))\n",
            ">>> x2 = np.arange(3.0)\n",
            ">>> x1 + x2\n",
            "array([[ 0.,  2.,  4.],\n",
            "       [ 3.,  5.,  7.],\n",
            "       [ 6.,  8., 10.]])\n"
          ]
        }
      ]
    },
    {
      "cell_type": "markdown",
      "id": "0b16cd77",
      "metadata": {
        "id": "0b16cd77"
      },
      "source": [
        "#### 6. Shunday vekor yaratingki u o'n ikki o'lchamda va qiymatlari noldan iborat bo'lsin, lekin vektorning oltinchi qiymati 1 ga teng bo'lsin.\n",
        "\n"
      ]
    },
    {
      "cell_type": "markdown",
      "source": [
        "Bu misolning boshqa usuli ham bormi ?"
      ],
      "metadata": {
        "id": "IxHFamRKJH5U"
      },
      "id": "IxHFamRKJH5U"
    },
    {
      "cell_type": "markdown",
      "source": [
        "`💡Ishora` array[12]"
      ],
      "metadata": {
        "id": "05223560"
      },
      "id": "05223560"
    },
    {
      "cell_type": "code",
      "source": [
        "vector = np.zeros(12) # dastlab 0 ga teng bo'lgan array yaratib oldim\n",
        "vector[5] = 1  # 6 - elementini index yordamida 1 ga tengladim\n",
        "print(vector)   # copy metodidan foydalanmaganim sababli asosiy vektorni o'rgartirdim."
      ],
      "metadata": {
        "id": "UJfYDNQoJc7M",
        "colab": {
          "base_uri": "https://localhost:8080/"
        },
        "outputId": "a1efbad9-a80c-4121-9629-62e8ccb28807"
      },
      "id": "UJfYDNQoJc7M",
      "execution_count": 16,
      "outputs": [
        {
          "output_type": "stream",
          "name": "stdout",
          "text": [
            "[0. 0. 0. 0. 0. 1. 0. 0. 0. 0. 0. 0.]\n"
          ]
        }
      ]
    },
    {
      "cell_type": "markdown",
      "id": "782d4c77",
      "metadata": {
        "id": "782d4c77"
      },
      "source": [
        "#### 7. Qiymatlari 20 dan 59 gacha bo'lgan vektor yarating.\n",
        "\n"
      ]
    },
    {
      "cell_type": "markdown",
      "source": [
        "`💡Ishora` arange"
      ],
      "metadata": {
        "id": "7250d114"
      },
      "id": "7250d114"
    },
    {
      "cell_type": "code",
      "source": [
        "array1 = np.arange(20.60)\n",
        "array1"
      ],
      "metadata": {
        "id": "fSaWkGakJhwz",
        "colab": {
          "base_uri": "https://localhost:8080/"
        },
        "outputId": "777dcad9-978e-48e1-dc84-279de9432d8a"
      },
      "id": "fSaWkGakJhwz",
      "execution_count": 18,
      "outputs": [
        {
          "output_type": "execute_result",
          "data": {
            "text/plain": [
              "array([ 0.,  1.,  2.,  3.,  4.,  5.,  6.,  7.,  8.,  9., 10., 11., 12.,\n",
              "       13., 14., 15., 16., 17., 18., 19., 20.])"
            ]
          },
          "metadata": {},
          "execution_count": 18
        }
      ]
    },
    {
      "cell_type": "markdown",
      "id": "48d48f01",
      "metadata": {
        "id": "48d48f01"
      },
      "source": [
        "#### 8. Vektor yarating va uni teskari o'zgartiring\n",
        "(birinchi element oxirgisi bo'lsin)\n",
        "\n"
      ]
    },
    {
      "cell_type": "markdown",
      "source": [
        "Men shu misolga tushunmadim bu ishoradagi ::-1 nima degani ,"
      ],
      "metadata": {
        "id": "N8J2YbVwLG8b"
      },
      "id": "N8J2YbVwLG8b"
    },
    {
      "cell_type": "markdown",
      "source": [
        "`💡Ishora` array[::-1]"
      ],
      "metadata": {
        "id": "fb702ae0"
      },
      "id": "fb702ae0"
    },
    {
      "cell_type": "code",
      "source": [
        "data01 = np.array([12, 2, 34, 56, -12, -45, 67,0])\n",
        "\n",
        "rev_data = data01[::-1]\n",
        "rev_data\n",
        "\n",
        "\n"
      ],
      "metadata": {
        "id": "GCP6vp_WJrON",
        "colab": {
          "base_uri": "https://localhost:8080/"
        },
        "outputId": "013f6e32-e4ce-4057-c88e-e2376b65d9e6"
      },
      "id": "GCP6vp_WJrON",
      "execution_count": 30,
      "outputs": [
        {
          "output_type": "execute_result",
          "data": {
            "text/plain": [
              "array([  0,  67, -45, -12,  56,  34,   2,  12])"
            ]
          },
          "metadata": {},
          "execution_count": 30
        }
      ]
    },
    {
      "cell_type": "markdown",
      "id": "4fa39382",
      "metadata": {
        "id": "4fa39382"
      },
      "source": [
        "#### 9. 12 dan 20 gacha bo'lgan qiymatlarga ega 3x3 matritsa yarating.\n"
      ]
    },
    {
      "cell_type": "markdown",
      "source": [
        "`💡Ishora` reshape"
      ],
      "metadata": {
        "id": "97e6be92"
      },
      "id": "97e6be92"
    },
    {
      "cell_type": "code",
      "source": [
        "# dastlab arange funksiyasidan foydalanib vektor tuzamiz\n",
        "data001 = np.arange(12, 21) #\n",
        "matrix_a = np.array(data001).reshape(3,3) # reshape orqali 3ga 3 matrix\n",
        "matrix_a"
      ],
      "metadata": {
        "id": "Ve7gEGjuJxxw",
        "colab": {
          "base_uri": "https://localhost:8080/"
        },
        "outputId": "937b5d0f-df1f-44a3-a378-4dfe1c2da672"
      },
      "id": "Ve7gEGjuJxxw",
      "execution_count": 38,
      "outputs": [
        {
          "output_type": "execute_result",
          "data": {
            "text/plain": [
              "array([[12, 13, 14],\n",
              "       [15, 16, 17],\n",
              "       [18, 19, 20]])"
            ]
          },
          "metadata": {},
          "execution_count": 38
        }
      ]
    },
    {
      "cell_type": "markdown",
      "id": "da64551a",
      "metadata": {
        "id": "da64551a"
      },
      "source": [
        "#### 10. Quyidagi matritsadan foydalanib nolga teng bo'lmagan elementlarning indekslarini toping.\n",
        "[3, 7, 0, 0, 9, 0]\n",
        "\n",
        "\n",
        "\n"
      ]
    },
    {
      "cell_type": "markdown",
      "source": [
        "`💡Ishora` np.nonzero"
      ],
      "metadata": {
        "id": "322b2b68"
      },
      "id": "322b2b68"
    },
    {
      "cell_type": "code",
      "source": [
        "matrix01 = np.array([3,7,0,0,9,0])\n",
        "no_element_zero = np.nonzero(matrix01)[0]\n",
        "print(no_element_zero)"
      ],
      "metadata": {
        "id": "fNIuSyBaJ4OP",
        "colab": {
          "base_uri": "https://localhost:8080/"
        },
        "outputId": "c8060d8b-fd6f-4e4a-b1b9-b70370342444"
      },
      "id": "fNIuSyBaJ4OP",
      "execution_count": 39,
      "outputs": [
        {
          "output_type": "stream",
          "name": "stdout",
          "text": [
            "[0 1 4]\n"
          ]
        }
      ]
    },
    {
      "cell_type": "markdown",
      "id": "f89d9c9e",
      "metadata": {
        "id": "f89d9c9e"
      },
      "source": [
        "#### 11. Tasodifiy qiymatlar bilan 2x2x2 o'lchovidagi massiv yarating.\n"
      ]
    },
    {
      "cell_type": "markdown",
      "source": [
        "`💡Ishora` np.random.random"
      ],
      "metadata": {
        "id": "5717e1c1"
      },
      "id": "5717e1c1"
    },
    {
      "cell_type": "code",
      "source": [
        "masiv = np.random.random(8).reshape(2,2,2)\n",
        "print(masiv)"
      ],
      "metadata": {
        "id": "bHloeqHOKuiX",
        "colab": {
          "base_uri": "https://localhost:8080/"
        },
        "outputId": "2e6e27a2-8c0e-4d9e-e0cc-5b9fca8a37d4"
      },
      "id": "bHloeqHOKuiX",
      "execution_count": 42,
      "outputs": [
        {
          "output_type": "stream",
          "name": "stdout",
          "text": [
            "[[[0.23594889 0.26154937]\n",
            "  [0.64845182 0.43304243]]\n",
            "\n",
            " [[0.04443684 0.99099206]\n",
            "  [0.77672483 0.08237411]]]\n"
          ]
        }
      ]
    },
    {
      "cell_type": "markdown",
      "id": "13c5928c",
      "metadata": {
        "id": "13c5928c"
      },
      "source": [
        "#### 12. Tasodifiy sonlardan tashkil topgan 9X9 o'lchamidagi massiv yarating. So'ng uning eng katta va eng kichik qiymatlarini toping\n"
      ]
    },
    {
      "cell_type": "markdown",
      "source": [
        "`💡Ishora` min, max"
      ],
      "metadata": {
        "id": "0ede4d26"
      },
      "id": "0ede4d26"
    },
    {
      "cell_type": "code",
      "source": [
        "# birinchi navbatda massiv yaratib olamiz with random\n",
        "massiv002 = np.random.randint(1,81, size=(9,9))\n",
        "np.min(massiv002)\n",
        "np.max(massiv002)\n",
        "massiv002\n"
      ],
      "metadata": {
        "id": "OJiVa5K9LJyb",
        "colab": {
          "base_uri": "https://localhost:8080/"
        },
        "outputId": "4e3e7db4-f964-411e-acd5-94c0224aecbc"
      },
      "id": "OJiVa5K9LJyb",
      "execution_count": 48,
      "outputs": [
        {
          "output_type": "execute_result",
          "data": {
            "text/plain": [
              "array([[26, 22, 42, 63, 45, 79,  7, 23,  4],\n",
              "       [57, 19,  5, 50, 76,  1,  9,  3, 43],\n",
              "       [55, 32, 68, 28, 54, 78, 22, 21, 10],\n",
              "       [23,  2, 53, 54, 10, 24, 78, 10, 73],\n",
              "       [50, 20, 28, 32, 50, 75, 78, 22,  2],\n",
              "       [ 1, 28, 28, 51, 49, 40, 47, 75, 71],\n",
              "       [68, 51, 76, 67,  8,  6, 32, 60, 38],\n",
              "       [34, 57,  5, 17, 72, 12, 33,  4, 38],\n",
              "       [58, 59, 60,  7, 39, 58, 54, 78, 29]])"
            ]
          },
          "metadata": {},
          "execution_count": 48
        }
      ]
    },
    {
      "cell_type": "markdown",
      "id": "3fa2e461",
      "metadata": {
        "id": "3fa2e461"
      },
      "source": [
        "#### 13. Quyidagi misol qanday natija beradi?\n",
        "\n",
        "\n",
        "```python\n",
        "0 * np.nan\n",
        "np.nan == np.nan\n",
        "np.inf > np.nan\n",
        "np.nan - np.nan\n",
        "np.nan in set([np.nan])\n",
        "0.7 == 7 * 0.1\n",
        "```\n"
      ]
    },
    {
      "cell_type": "markdown",
      "source": [
        "`💡Ishora` NaN = not a number, inf = infinity"
      ],
      "metadata": {
        "id": "c0048e59"
      },
      "id": "c0048e59"
    },
    {
      "cell_type": "markdown",
      "source": [],
      "metadata": {
        "id": "zeLQGTLPOoi7"
      },
      "id": "zeLQGTLPOoi7"
    },
    {
      "cell_type": "code",
      "source": [
        "0\n",
        "np.inf\n",
        "np.inf\n",
        "0\n",
        "np.NaN\n",
        "0.7\n"
      ],
      "metadata": {
        "id": "Thbqd_RCLf_e",
        "colab": {
          "base_uri": "https://localhost:8080/"
        },
        "outputId": "c5a683fe-1421-4269-e60a-08f61a026484"
      },
      "id": "Thbqd_RCLf_e",
      "execution_count": 50,
      "outputs": [
        {
          "output_type": "execute_result",
          "data": {
            "text/plain": [
              "0.7"
            ]
          },
          "metadata": {},
          "execution_count": 50
        }
      ]
    },
    {
      "cell_type": "markdown",
      "id": "73f7a549",
      "metadata": {
        "id": "73f7a549"
      },
      "source": [
        "#### 14. O'lchamlari 6x3 va 3x4 bo'lgan martitsa yarating, so'ng ularning  ko'paytmasini hisoblang.\n",
        "\n"
      ]
    },
    {
      "cell_type": "markdown",
      "source": [
        "`💡Ishora` np.dot` or `np.ones"
      ],
      "metadata": {
        "id": "351ff928"
      },
      "id": "351ff928"
    },
    {
      "cell_type": "code",
      "source": [
        "# malumot yaratamiz\n",
        "atad = np.arange(1,19,1).reshape(6,3)\n",
        "atad1 = np.random.randn(12).reshape(3,4)\n",
        "np.dot(atad, atad1)"
      ],
      "metadata": {
        "id": "e_5QUFcPLtVX",
        "colab": {
          "base_uri": "https://localhost:8080/"
        },
        "outputId": "a43e64cc-99b0-4cbf-ab07-49f624082077"
      },
      "id": "e_5QUFcPLtVX",
      "execution_count": 110,
      "outputs": [
        {
          "output_type": "execute_result",
          "data": {
            "text/plain": [
              "array([[ -0.81619353,  -3.65222598,   4.64331476,  -0.44425527],\n",
              "       [  1.74537799,  -8.64335709,  10.79041421,   1.0764934 ],\n",
              "       [  4.3069495 , -13.6344882 ,  16.93751366,   2.59724207],\n",
              "       [  6.86852102, -18.62561931,  23.08461311,   4.11799074],\n",
              "       [  9.43009254, -23.61675042,  29.23171256,   5.63873941],\n",
              "       [ 11.99166405, -28.60788152,  35.37881201,   7.15948809]])"
            ]
          },
          "metadata": {},
          "execution_count": 110
        }
      ]
    },
    {
      "cell_type": "markdown",
      "id": "6d0c506f",
      "metadata": {
        "id": "6d0c506f"
      },
      "source": [
        "#### 15. Quyidagi misol qanday natija beradi?\n",
        "\n",
        "```python\n",
        "print(sum(range(5),-1))\n",
        "from numpy import *\n",
        "print(sum(range(5),-1))\n",
        "```"
      ]
    },
    {
      "cell_type": "code",
      "execution_count": 65,
      "id": "c1cc1143",
      "metadata": {
        "id": "c1cc1143",
        "colab": {
          "base_uri": "https://localhost:8080/"
        },
        "outputId": "95ad5a69-533e-445f-efd2-2a9fbd2f7836"
      },
      "outputs": [
        {
          "output_type": "stream",
          "name": "stdout",
          "text": [
            "10\n",
            "10\n"
          ]
        }
      ],
      "source": [
        "print(sum(range(5),-1))\n",
        "from numpy import *\n",
        "print(sum(range(5),-1))"
      ]
    },
    {
      "cell_type": "markdown",
      "id": "d6ad1a9f",
      "metadata": {
        "id": "d6ad1a9f"
      },
      "source": [
        "#### 16. NumPy kutubxonasi yordamida ikkita massivni solishtiring va ular usida quyidagi amallarni bajaring.\n",
        "\n",
        "```python\n",
        "Array a: [1 2]\n",
        "Array b: [4 5]\n",
        "a > b\n",
        "[False False]\n",
        "a >= b\n",
        "[False False]\n",
        "a < b\n",
        "[ True True]\n",
        "a <= b\n",
        "[ True True]\n",
        "```"
      ]
    },
    {
      "cell_type": "code",
      "execution_count": 69,
      "id": "7ba3c441",
      "metadata": {
        "id": "7ba3c441",
        "colab": {
          "base_uri": "https://localhost:8080/"
        },
        "outputId": "d3985949-1c62-4bd6-df91-38925e6115d0"
      },
      "outputs": [
        {
          "output_type": "stream",
          "name": "stdout",
          "text": [
            "array_a1 > array_b1 [False False]\n",
            "array_a1 >= array_b1  [False False]\n",
            "array_a1 < array_b1 [ True  True]\n",
            "array_a1 <= array_b1 [ True  True]\n"
          ]
        }
      ],
      "source": [
        "array_a1 = np.array([1,2])\n",
        "array_b1 = np.array([4,5])\n",
        "\n",
        "print(\"array_a1 > array_b1\", array_a1 > array_b1)\n",
        "print(\"array_a1 >= array_b1 \", array_a1 >= array_b1)\n",
        "print(\"array_a1 < array_b1\", array_a1 < array_b1)\n",
        "print(\"array_a1 <= array_b1\", array_a1 <= array_b1)"
      ]
    },
    {
      "cell_type": "markdown",
      "id": "e3a7ba7f",
      "metadata": {
        "id": "e3a7ba7f"
      },
      "source": [
        "#### 17. Quyidagi misol qanday natija beradi?\n",
        "\n",
        "```python\n",
        "np.array(0) / np.array(0)\n",
        "np.array(0) // np.array(0)\n",
        "np.array([np.nan]).astype(int).astype(float)\n",
        "```"
      ]
    },
    {
      "cell_type": "code",
      "execution_count": 70,
      "id": "b874734e",
      "metadata": {
        "id": "b874734e",
        "colab": {
          "base_uri": "https://localhost:8080/"
        },
        "outputId": "42114a8a-d251-4d78-9cf2-224247b86438"
      },
      "outputs": [
        {
          "output_type": "stream",
          "name": "stderr",
          "text": [
            "<ipython-input-70-cd809174da5d>:1: RuntimeWarning: invalid value encountered in divide\n",
            "  np.array(0) / np.array(0)\n",
            "<ipython-input-70-cd809174da5d>:2: RuntimeWarning: divide by zero encountered in floor_divide\n",
            "  np.array(0) // np.array(0)\n",
            "<ipython-input-70-cd809174da5d>:3: RuntimeWarning: invalid value encountered in cast\n",
            "  np.array([np.nan]).astype(int).astype(float)\n"
          ]
        },
        {
          "output_type": "execute_result",
          "data": {
            "text/plain": [
              "array([-9.22337204e+18])"
            ]
          },
          "metadata": {},
          "execution_count": 70
        }
      ],
      "source": [
        "np.array(0) / np.array(0)\n",
        "np.array(0) // np.array(0)\n",
        "np.array([np.nan]).astype(int).astype(float)"
      ]
    },
    {
      "cell_type": "markdown",
      "id": "6d17ab5d",
      "metadata": {
        "id": "6d17ab5d"
      },
      "source": [
        "#### 18. Ikkita massiv yarating va ular orasidagi umumiy qiymatlarni toping\n"
      ]
    },
    {
      "cell_type": "markdown",
      "source": [
        "`💡Ishora` np.intersect1d"
      ],
      "metadata": {
        "id": "4c4e2c5e"
      },
      "id": "4c4e2c5e"
    },
    {
      "cell_type": "code",
      "source": [
        "admins = np.array(['Suhrobjon', 'Soatbek', 'Mohinur', 'Merey', 'Jorabek'])\n",
        "users = np.array(['Suhrobjon', 'Malika', 'Aliyor', 'Merey', 'Oybek'])\n",
        "np.intersect1d(admins, users)\n",
        "\n",
        "# Bu misolni raqamlarda ham ko'rishimiz mumkin\n",
        "data09 = np.array([3,4,5,7,9,2,0,1,4,7])\n",
        "data08 = np.array([2,4,6,9,0])\n",
        "np.intersect1d(data09, data08)"
      ],
      "metadata": {
        "id": "Dxz5P8WpMeAP",
        "colab": {
          "base_uri": "https://localhost:8080/"
        },
        "outputId": "2a33f61c-9655-4933-fe0f-d1f383ace5ca"
      },
      "id": "Dxz5P8WpMeAP",
      "execution_count": 73,
      "outputs": [
        {
          "output_type": "execute_result",
          "data": {
            "text/plain": [
              "array([0, 2, 4, 9])"
            ]
          },
          "metadata": {},
          "execution_count": 73
        }
      ]
    },
    {
      "cell_type": "markdown",
      "id": "8837119b",
      "metadata": {
        "id": "8837119b"
      },
      "source": [
        "#### 19. Tasodifiy sonlardan iborat bo'lgan massiv yarating, so'ng ularni quyida berilgan 4 xil usul yordamida musbat sonlarning butun qismini ajratib oling."
      ]
    },
    {
      "cell_type": "markdown",
      "source": [
        "% ishorasi bilan ishlay olmadim iltimos menga yozib yuoring masterclass uchun"
      ],
      "metadata": {
        "id": "GUR3tiYlW0XF"
      },
      "id": "GUR3tiYlW0XF"
    },
    {
      "cell_type": "markdown",
      "source": [
        "`💡Ishora` %, np.floor, astype, np.trunc"
      ],
      "metadata": {
        "id": "2b05c544"
      },
      "id": "2b05c544"
    },
    {
      "cell_type": "code",
      "source": [],
      "metadata": {
        "id": "mEs65ND2U9P8"
      },
      "id": "mEs65ND2U9P8",
      "execution_count": null,
      "outputs": []
    },
    {
      "cell_type": "code",
      "source": [
        "# unary fuksiyalar ekan yaxshi demak 1 ta massiv yarataman with randint\n",
        "# dastlabki uslub\n",
        "func_data = np.random.randn(12).reshape(3,4)\n",
        "print(func_data)\n",
        "np.floor(func_data)\n",
        "resultant = func_data.astype(np.int64) # bunda float64 dan int64 ga o'tganimizda elementlarni yo'qotdik chunki biz katta malumot turidan kivchik malumot turiga o;tyamiz\n",
        "# unary fuksiyalar ekan yaxshi demak 1 ta massiv yarataman with randint\n",
        "# dastlabki uslub\n",
        "import numpy as np\n",
        "func_data = np.random.randn(12).reshape(3,4)\n",
        "print(func_data)\n",
        "np.floor(func_data)\n",
        "resultant = func_data.astype(np.int64) # bunda float64 dan int64 ga o'tganimizda elementlarni yo'qotdik chunki biz katta malumot turidan kivchik malumot turiga o;tyamiz\n",
        "print(resultant)\n",
        "np.trunc(func_data) # bu funksiya binary ekan\n"
      ],
      "metadata": {
        "id": "jc6wN5WWMpS3",
        "colab": {
          "base_uri": "https://localhost:8080/"
        },
        "outputId": "05b4a096-89a1-4d57-ee0c-07cc8731fa52"
      },
      "id": "jc6wN5WWMpS3",
      "execution_count": 88,
      "outputs": [
        {
          "output_type": "stream",
          "name": "stdout",
          "text": [
            "[[ 0.71012367 -0.42812612  1.18872824  1.41476456]\n",
            " [ 0.34731084  0.65434546 -0.06875336  1.26489733]\n",
            " [-1.65124255  1.4120735  -0.13345276 -0.96242074]]\n",
            "[[-0.48005037 -2.67354637  0.97483293 -0.84475451]\n",
            " [-0.21876056  0.02337723  0.02806788  1.75109124]\n",
            " [-0.05494212  0.21030702 -0.32986831 -1.56050113]]\n",
            "[[ 0 -2  0  0]\n",
            " [ 0  0  0  1]\n",
            " [ 0  0  0 -1]]\n"
          ]
        },
        {
          "output_type": "execute_result",
          "data": {
            "text/plain": [
              "array([[-0., -2.,  0., -0.],\n",
              "       [-0.,  0.,  0.,  1.],\n",
              "       [-0.,  0., -0., -1.]])"
            ]
          },
          "metadata": {},
          "execution_count": 88
        }
      ]
    },
    {
      "cell_type": "markdown",
      "id": "ec788c9f",
      "metadata": {
        "id": "ec788c9f"
      },
      "source": [
        "#### 20. O'lchovlari 3x3 matritsa yarating, ularning qator qiymatlari 0 dan 2 gacha bo'lsin.\n",
        "\n"
      ]
    },
    {
      "cell_type": "markdown",
      "source": [
        "arange biln qiladigan bolsam elementlar soni yetmaydi degan xatolik chiqyapti menga tushintirib ber olasizmi"
      ],
      "metadata": {
        "id": "p-Nozv2nXs4g"
      },
      "id": "p-Nozv2nXs4g"
    },
    {
      "cell_type": "markdown",
      "source": [
        "`💡Ishora` np.arange"
      ],
      "metadata": {
        "id": "c3980b2c"
      },
      "id": "c3980b2c"
    },
    {
      "cell_type": "code",
      "source": [
        "matrx = np.random.randint(0,3, size = (3,3))\n",
        "print(matrx)"
      ],
      "metadata": {
        "id": "ycz3jw4bM0Xk",
        "colab": {
          "base_uri": "https://localhost:8080/"
        },
        "outputId": "da5d9f61-3a5b-488f-b0f5-1a253a322878"
      },
      "id": "ycz3jw4bM0Xk",
      "execution_count": 93,
      "outputs": [
        {
          "output_type": "stream",
          "name": "stdout",
          "text": [
            "[[1 1 0]\n",
            " [1 2 2]\n",
            " [1 1 2]]\n"
          ]
        }
      ]
    },
    {
      "cell_type": "markdown",
      "id": "391791e0",
      "metadata": {
        "id": "391791e0"
      },
      "source": [
        "#### 21. O'chamlari 10 bo'lgan tasodifiy vektor yarating va uni o'sish tartibida chiqaruvchi dastur tuzing.\n",
        "\n"
      ]
    },
    {
      "cell_type": "markdown",
      "source": [
        "`💡Ishora` sort"
      ],
      "metadata": {
        "id": "ada71c06"
      },
      "id": "ada71c06"
    },
    {
      "cell_type": "code",
      "source": [
        "# Malumot yarataman uni serverga yuboraman va natija\n",
        "datasett = np.random.randn(10)\n",
        "np.sort(datasett) # har gal vazifani yurgizganingizda ham sorted qilib chiqarib berar ekan"
      ],
      "metadata": {
        "id": "TPMqaavROM7g",
        "colab": {
          "base_uri": "https://localhost:8080/"
        },
        "outputId": "af5196d7-277f-47c6-e028-4005dd6121c8"
      },
      "id": "TPMqaavROM7g",
      "execution_count": 99,
      "outputs": [
        {
          "output_type": "execute_result",
          "data": {
            "text/plain": [
              "array([-1.6863941 , -1.22150809, -1.19690683, -0.99915651, -0.8266367 ,\n",
              "       -0.34364475, -0.16417488,  0.62089624,  0.7030269 ,  1.72152993])"
            ]
          },
          "metadata": {},
          "execution_count": 99
        }
      ]
    },
    {
      "cell_type": "markdown",
      "id": "1e74d39e",
      "metadata": {
        "id": "1e74d39e"
      },
      "source": [
        "#### 22. Ikki tasodifiy A va B massiv yarating, ularning tengligini tekshiring"
      ]
    },
    {
      "cell_type": "markdown",
      "source": [
        "`💡Ishora` np.allclose, np.array_equal"
      ],
      "metadata": {
        "id": "eb0e066c"
      },
      "id": "eb0e066c"
    },
    {
      "cell_type": "code",
      "source": [
        "# tasodifiy massiv deganlarizga men hammasini random funksiyasidan foydalanayapman eken\n",
        "arrr = np.array([3,5,6,2,0])\n",
        "arrr1 = np.array([6,3,2,0,5])\n",
        "np.array_equal(arrr, arrr1)"
      ],
      "metadata": {
        "id": "xHNWNZnwOT1r",
        "colab": {
          "base_uri": "https://localhost:8080/"
        },
        "outputId": "d722a5e1-d5be-4a86-bac0-2ec998ace3e2"
      },
      "id": "xHNWNZnwOT1r",
      "execution_count": 104,
      "outputs": [
        {
          "output_type": "execute_result",
          "data": {
            "text/plain": [
              "False"
            ]
          },
          "metadata": {},
          "execution_count": 104
        }
      ]
    },
    {
      "cell_type": "markdown",
      "id": "78250c14",
      "metadata": {
        "id": "78250c14"
      },
      "source": [
        "#### 23. O'lchamlari 6x3 va 3x4 matritsa tuzing va ularni o'zaro ko'paytiring.\n"
      ]
    },
    {
      "cell_type": "markdown",
      "source": [
        "`💡Ishora` np.dot or np.ones"
      ],
      "metadata": {
        "id": "2e482afe"
      },
      "id": "2e482afe"
    },
    {
      "cell_type": "markdown",
      "source": [
        "np.ones yordamida ishlolmaas ekanman bu vazifani menga tushintirib berasizmi vatingiz bormi ?"
      ],
      "metadata": {
        "id": "Yk4ej8gvcMSf"
      },
      "id": "Yk4ej8gvcMSf"
    },
    {
      "cell_type": "code",
      "source": [
        "# bu savol yana qaytarilibdi demak np.ones funkiyasi yordamida ishlashimiz kerak\n",
        "matritsa = np.arange(101, 119,1).reshape(6,3)\n",
        "matritsa1 = np.random.randn(12).reshape(3,4)\n",
        "np.dot(matritsa, matritsa1)"
      ],
      "metadata": {
        "id": "ZRlMgdT9POgS",
        "colab": {
          "base_uri": "https://localhost:8080/"
        },
        "outputId": "b3e3c368-5758-49cb-9f48-ff4d2fbb1a63"
      },
      "id": "ZRlMgdT9POgS",
      "execution_count": 115,
      "outputs": [
        {
          "output_type": "execute_result",
          "data": {
            "text/plain": [
              "array([[103.84881388, 254.65298306,   6.24219485, -58.16777402],\n",
              "       [106.94808176, 262.15393318,   6.37323959, -59.94587927],\n",
              "       [110.04734963, 269.65488331,   6.50428433, -61.72398453],\n",
              "       [113.1466175 , 277.15583344,   6.63532907, -63.50208979],\n",
              "       [116.24588538, 284.65678356,   6.7663738 , -65.28019504],\n",
              "       [119.34515325, 292.15773369,   6.89741854, -67.0583003 ]])"
            ]
          },
          "metadata": {},
          "execution_count": 115
        }
      ]
    },
    {
      "cell_type": "markdown",
      "id": "51898680",
      "metadata": {
        "id": "51898680"
      },
      "source": [
        "#### 24. Tasodifiy sonlardan iborat bo'lgan o'lchami 5 ga teng vektor yarating, so'ng uning eng katta qiymatini 0 ga o'zgartiring.\n"
      ]
    },
    {
      "cell_type": "markdown",
      "source": [
        "`💡Ishora` argmax"
      ],
      "metadata": {
        "id": "ee92ccaf"
      },
      "id": "ee92ccaf"
    },
    {
      "cell_type": "code",
      "source": [
        "tasofifan = np.random.randn(5)  # tasodifan bilib turgan holda shunday ishlar qilishga ham amjburmiz\n",
        "tasofifan[np.argmax(tasofifan)] = 0\n",
        "tasofifan"
      ],
      "metadata": {
        "id": "v9DvyaTNPk_t",
        "colab": {
          "base_uri": "https://localhost:8080/"
        },
        "outputId": "067b0802-14dc-47df-85a0-b85d7783ab4e"
      },
      "id": "v9DvyaTNPk_t",
      "execution_count": 118,
      "outputs": [
        {
          "output_type": "execute_result",
          "data": {
            "text/plain": [
              "array([ 0.        , -0.53896599,  0.64213811, -1.2134895 , -0.02151994])"
            ]
          },
          "metadata": {},
          "execution_count": 118
        }
      ]
    },
    {
      "cell_type": "markdown",
      "id": "129c342d",
      "metadata": {
        "id": "129c342d"
      },
      "source": [
        "#### 25. NumPy kutubxonasi yordamida kecha, bugun va ertangi kun sanalarini aniqlang.\n"
      ]
    },
    {
      "cell_type": "markdown",
      "source": [
        "`💡Ishora` np.datetime64, np.timedelta64"
      ],
      "metadata": {
        "id": "0fd2f947"
      },
      "id": "0fd2f947"
    },
    {
      "cell_type": "code",
      "source": [
        "np.datetime64('today')\n"
      ],
      "metadata": {
        "id": "dlljRGxkSitd",
        "colab": {
          "base_uri": "https://localhost:8080/"
        },
        "outputId": "6d9d56fc-333b-4731-a4f0-8d7ff6da1a69"
      },
      "id": "dlljRGxkSitd",
      "execution_count": 119,
      "outputs": [
        {
          "output_type": "execute_result",
          "data": {
            "text/plain": [
              "numpy.datetime64('2024-11-05')"
            ]
          },
          "metadata": {},
          "execution_count": 119
        }
      ]
    },
    {
      "cell_type": "markdown",
      "id": "42f8b2f9",
      "metadata": {
        "id": "42f8b2f9"
      },
      "source": [
        "#### 26. 2016 yil yanvar oyiga to'g'ri keladigan barcha sanalarni NumPy kutubxonasi yordamida aniqlang.\n"
      ]
    },
    {
      "cell_type": "markdown",
      "source": [
        "`💡Ishora` np.arange(dtype=datetime64['D'])"
      ],
      "metadata": {
        "id": "SU1BWcA8Sw2M"
      },
      "id": "SU1BWcA8Sw2M"
    },
    {
      "cell_type": "markdown",
      "source": [
        "Datatimelarni menga batafsilroq tushintirib bera olasizmi telegramdan yozvoraymi sizga"
      ],
      "metadata": {
        "id": "FMu-YIzydhIQ"
      },
      "id": "FMu-YIzydhIQ"
    },
    {
      "cell_type": "code",
      "execution_count": null,
      "id": "5ad086b0",
      "metadata": {
        "id": "5ad086b0"
      },
      "outputs": [],
      "source": []
    },
    {
      "cell_type": "markdown",
      "id": "486df8ea",
      "metadata": {
        "id": "486df8ea"
      },
      "source": [
        "#### 27. 4 xil usul yordamida musbat sonlarning tasodifiy massivining butun son qismini ajratib oling.\n"
      ]
    },
    {
      "cell_type": "markdown",
      "source": [
        "`💡Ishora` %, np.floor, astype, np.trunc`"
      ],
      "metadata": {
        "id": "h4QM3bp9TDhb"
      },
      "id": "h4QM3bp9TDhb"
    },
    {
      "cell_type": "markdown",
      "source": [
        "bu misolni yuqorida ishlovdim"
      ],
      "metadata": {
        "id": "73QHQjmvdwhi"
      },
      "id": "73QHQjmvdwhi"
    },
    {
      "cell_type": "code",
      "execution_count": null,
      "id": "2680c1ca",
      "metadata": {
        "id": "2680c1ca"
      },
      "outputs": [],
      "source": []
    },
    {
      "cell_type": "markdown",
      "id": "6415f02e",
      "metadata": {
        "id": "6415f02e"
      },
      "source": [
        "#### 28. Ixtiyoriy kichik massivlar yarating, ular yeg'indisini np.sum funksiyasidanda tezroq hisoblovchi dastur tuzing.\n"
      ]
    },
    {
      "cell_type": "markdown",
      "source": [
        "`💡Ishora` np.add.reduce"
      ],
      "metadata": {
        "id": "129e785f"
      },
      "id": "129e785f"
    },
    {
      "cell_type": "code",
      "source": [
        "# ishora bo'lmaganda nima qilardim a\n",
        "fatafa = np.random.randn(9)  # uzur randomda ishlab qoyibman\n",
        "np.add.reduce(fatafa)\n"
      ],
      "metadata": {
        "id": "M0Xv2bB9VYQZ",
        "colab": {
          "base_uri": "https://localhost:8080/"
        },
        "outputId": "ab66146d-85de-4d48-a674-3ce57ad8b8a1"
      },
      "id": "M0Xv2bB9VYQZ",
      "execution_count": 124,
      "outputs": [
        {
          "output_type": "execute_result",
          "data": {
            "text/plain": [
              "0.32684652859042657"
            ]
          },
          "metadata": {},
          "execution_count": 124
        }
      ]
    },
    {
      "cell_type": "markdown",
      "id": "58be9dd4",
      "metadata": {
        "id": "58be9dd4"
      },
      "source": [
        "#### 29. [1, 2, 3, 4, 5] vektor berilgan, har bir qiymat orasiga ketma-ket 3 ta nol raqamini yozuvchi dastur tuzing.\n"
      ]
    },
    {
      "cell_type": "markdown",
      "source": [
        "`💡Ishora` array[::4]"
      ],
      "metadata": {
        "id": "9cf9e134"
      },
      "id": "9cf9e134"
    },
    {
      "cell_type": "code",
      "source": [],
      "metadata": {
        "id": "04IuJ2jaZeYu"
      },
      "id": "04IuJ2jaZeYu",
      "execution_count": null,
      "outputs": []
    },
    {
      "cell_type": "markdown",
      "id": "781fa236",
      "metadata": {
        "id": "781fa236"
      },
      "source": [
        "#### 30. Quyidagi a massiv berilgan, a = [1,2,3,4,5,6,7,8,9,10,11,12,13,14] undan foydalangan holda siz quyidagi b massivni yarata olasizmi, b = [[1,2,3,4], [2,3,4,5], [3,4,5,6], ..., [11,12,13,14]]?\n"
      ]
    },
    {
      "cell_type": "markdown",
      "source": [
        "`💡Ishora` stride_tricks.as_strided"
      ],
      "metadata": {
        "id": "82e3d17e"
      },
      "id": "82e3d17e"
    },
    {
      "cell_type": "code",
      "source": [
        "from numpy.lib import stride_tricks\n",
        "a = np.array([1,2,3,4,5,6,7,8,9,10,11,12,13,14])\n",
        "b = np.strided(a,shape=(11,4), strides=(16,4))"
      ],
      "metadata": {
        "id": "S1H6ivCua3NZ",
        "colab": {
          "base_uri": "https://localhost:8080/",
          "height": 297
        },
        "outputId": "9bb4cc8c-f25d-437b-e069-cfc68e2e3204"
      },
      "id": "S1H6ivCua3NZ",
      "execution_count": 129,
      "outputs": [
        {
          "output_type": "error",
          "ename": "AttributeError",
          "evalue": "module 'numpy' has no attribute 'strided'",
          "traceback": [
            "\u001b[0;31m---------------------------------------------------------------------------\u001b[0m",
            "\u001b[0;31mAttributeError\u001b[0m                            Traceback (most recent call last)",
            "\u001b[0;32m<ipython-input-129-fe97129c26ce>\u001b[0m in \u001b[0;36m<cell line: 3>\u001b[0;34m()\u001b[0m\n\u001b[1;32m      1\u001b[0m \u001b[0;32mfrom\u001b[0m \u001b[0mnumpy\u001b[0m\u001b[0;34m.\u001b[0m\u001b[0mlib\u001b[0m \u001b[0;32mimport\u001b[0m \u001b[0mstride_tricks\u001b[0m\u001b[0;34m\u001b[0m\u001b[0;34m\u001b[0m\u001b[0m\n\u001b[1;32m      2\u001b[0m \u001b[0ma\u001b[0m \u001b[0;34m=\u001b[0m \u001b[0mnp\u001b[0m\u001b[0;34m.\u001b[0m\u001b[0marray\u001b[0m\u001b[0;34m(\u001b[0m\u001b[0;34m[\u001b[0m\u001b[0;36m1\u001b[0m\u001b[0;34m,\u001b[0m\u001b[0;36m2\u001b[0m\u001b[0;34m,\u001b[0m\u001b[0;36m3\u001b[0m\u001b[0;34m,\u001b[0m\u001b[0;36m4\u001b[0m\u001b[0;34m,\u001b[0m\u001b[0;36m5\u001b[0m\u001b[0;34m,\u001b[0m\u001b[0;36m6\u001b[0m\u001b[0;34m,\u001b[0m\u001b[0;36m7\u001b[0m\u001b[0;34m,\u001b[0m\u001b[0;36m8\u001b[0m\u001b[0;34m,\u001b[0m\u001b[0;36m9\u001b[0m\u001b[0;34m,\u001b[0m\u001b[0;36m10\u001b[0m\u001b[0;34m,\u001b[0m\u001b[0;36m11\u001b[0m\u001b[0;34m,\u001b[0m\u001b[0;36m12\u001b[0m\u001b[0;34m,\u001b[0m\u001b[0;36m13\u001b[0m\u001b[0;34m,\u001b[0m\u001b[0;36m14\u001b[0m\u001b[0;34m]\u001b[0m\u001b[0;34m)\u001b[0m\u001b[0;34m\u001b[0m\u001b[0;34m\u001b[0m\u001b[0m\n\u001b[0;32m----> 3\u001b[0;31m \u001b[0mb\u001b[0m \u001b[0;34m=\u001b[0m \u001b[0mnp\u001b[0m\u001b[0;34m.\u001b[0m\u001b[0mstrided\u001b[0m\u001b[0;34m(\u001b[0m\u001b[0ma\u001b[0m\u001b[0;34m,\u001b[0m\u001b[0mshape\u001b[0m\u001b[0;34m=\u001b[0m\u001b[0;34m(\u001b[0m\u001b[0;36m11\u001b[0m\u001b[0;34m,\u001b[0m\u001b[0;36m4\u001b[0m\u001b[0;34m)\u001b[0m\u001b[0;34m,\u001b[0m \u001b[0mstrides\u001b[0m\u001b[0;34m=\u001b[0m\u001b[0;34m(\u001b[0m\u001b[0;36m16\u001b[0m\u001b[0;34m,\u001b[0m\u001b[0;36m4\u001b[0m\u001b[0;34m)\u001b[0m\u001b[0;34m)\u001b[0m\u001b[0;34m\u001b[0m\u001b[0;34m\u001b[0m\u001b[0m\n\u001b[0m",
            "\u001b[0;32m/usr/local/lib/python3.10/dist-packages/numpy/__init__.py\u001b[0m in \u001b[0;36m__getattr__\u001b[0;34m(attr)\u001b[0m\n\u001b[1;32m    331\u001b[0m             \u001b[0;32mraise\u001b[0m \u001b[0mRuntimeError\u001b[0m\u001b[0;34m(\u001b[0m\u001b[0;34m\"Tester was removed in NumPy 1.25.\"\u001b[0m\u001b[0;34m)\u001b[0m\u001b[0;34m\u001b[0m\u001b[0;34m\u001b[0m\u001b[0m\n\u001b[1;32m    332\u001b[0m \u001b[0;34m\u001b[0m\u001b[0m\n\u001b[0;32m--> 333\u001b[0;31m         raise AttributeError(\"module {!r} has no attribute \"\n\u001b[0m\u001b[1;32m    334\u001b[0m                              \"{!r}\".format(__name__, attr))\n\u001b[1;32m    335\u001b[0m \u001b[0;34m\u001b[0m\u001b[0m\n",
            "\u001b[0;31mAttributeError\u001b[0m: module 'numpy' has no attribute 'strided'"
          ]
        }
      ]
    },
    {
      "cell_type": "markdown",
      "id": "7d8dc135",
      "metadata": {
        "id": "7d8dc135"
      },
      "source": [
        "#### 31. Ixtiyoriy sonlardan tashkil topgan massiv yarating, unga o'xshash qiymatlar kiriting. So'ng, o'xshash qiymatlarni topuvchi dastur tuzing.\n"
      ]
    },
    {
      "cell_type": "markdown",
      "source": [
        "`💡Ishora` np.bincount, argmax"
      ],
      "metadata": {
        "id": "81844e99"
      },
      "id": "81844e99"
    },
    {
      "cell_type": "code",
      "source": [],
      "metadata": {
        "id": "SiRaNwxjbaQN"
      },
      "id": "SiRaNwxjbaQN",
      "execution_count": null,
      "outputs": []
    },
    {
      "cell_type": "markdown",
      "source": [
        "#### BONUS!\n",
        "\n",
        "`💡O'zingiz javob berishni istagan savolni kiriting va unga javob bering!`"
      ],
      "metadata": {
        "id": "URzxwwODb0m_"
      },
      "id": "URzxwwODb0m_"
    },
    {
      "cell_type": "code",
      "source": [
        "#  BU MISOLLARNI ISHLAB MAZZA QILDINGMI VA O'ZINGDAN QONIQISH HOSIL QILDINGMI ?\n",
        "# MENING JAVOBIM : HA AALBATTA MAZZA QILIB ISHLADIM YUQORI KAYFIYAT BILAN LEKIN BAZI NARSALARNI TUSHUNMGANMAN VA KO'RMAGNIM UCHUN ISHLAY OLMADIM SHUNING UCHUN UNCHAIK QONIQISH SEZMADIM\n",
        "# sIZLARGA RAHMAT BU SOHANI O'RGANISH UCHUN IMKONIYAT YARATIB BERGANINGLAR UCHUN"
      ],
      "metadata": {
        "id": "9xpR0GVrbzuk"
      },
      "id": "9xpR0GVrbzuk",
      "execution_count": 130,
      "outputs": []
    },
    {
      "cell_type": "code",
      "source": [],
      "metadata": {
        "id": "G-ng-D5xg2CV"
      },
      "id": "G-ng-D5xg2CV",
      "execution_count": null,
      "outputs": []
    }
  ],
  "metadata": {
    "hide_input": false,
    "kernelspec": {
      "display_name": "Python 3",
      "language": "python",
      "name": "python3"
    },
    "language_info": {
      "codemirror_mode": {
        "name": "ipython",
        "version": 3
      },
      "file_extension": ".py",
      "mimetype": "text/x-python",
      "name": "python",
      "nbconvert_exporter": "python",
      "pygments_lexer": "ipython3",
      "version": "3.8.8"
    },
    "toc": {
      "base_numbering": 1,
      "nav_menu": {},
      "number_sections": true,
      "sideBar": true,
      "skip_h1_title": false,
      "title_cell": "Table of Contents",
      "title_sidebar": "Contents",
      "toc_cell": false,
      "toc_position": {},
      "toc_section_display": true,
      "toc_window_display": false
    },
    "varInspector": {
      "cols": {
        "lenName": 16,
        "lenType": 16,
        "lenVar": 40
      },
      "kernels_config": {
        "python": {
          "delete_cmd_postfix": "",
          "delete_cmd_prefix": "del ",
          "library": "var_list.py",
          "varRefreshCmd": "print(var_dic_list())"
        },
        "r": {
          "delete_cmd_postfix": ") ",
          "delete_cmd_prefix": "rm(",
          "library": "var_list.r",
          "varRefreshCmd": "cat(var_dic_list()) "
        }
      },
      "types_to_exclude": [
        "module",
        "function",
        "builtin_function_or_method",
        "instance",
        "_Feature"
      ],
      "window_display": false
    },
    "colab": {
      "provenance": [],
      "include_colab_link": true
    }
  },
  "nbformat": 4,
  "nbformat_minor": 5
}